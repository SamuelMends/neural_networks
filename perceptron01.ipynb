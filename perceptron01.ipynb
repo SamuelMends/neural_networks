{
 "cells": [
  {
   "cell_type": "code",
   "execution_count": 13,
   "metadata": {},
   "outputs": [],
   "source": [
    "# Implementação Perceptron de Camada I:"
   ]
  },
  {
   "cell_type": "code",
   "execution_count": 2,
   "metadata": {},
   "outputs": [],
   "source": [
    "entradas = [1, 7, 5] # Lista de Entradas\n",
    "pesos = [0.8, 0.1, 0] # Lista de Pesos (Sinapse)"
   ]
  },
  {
   "cell_type": "code",
   "execution_count": 3,
   "metadata": {},
   "outputs": [],
   "source": [
    "def soma(e, p): # Função para Soma\n",
    "    s = 0 # Variavel \"S\" para armazenar Soma\n",
    "    for i in range(3): # Loop de For (3) para percorrer os parametros de ambas as listas  \n",
    "        s += e[i] * p[i] # A cada loop teremos o calculo: entrada * peso = soma. (S recebe S mais o resultado da multiplicação)\n",
    "    return s # Para retornar a variável Soma"
   ]
  },
  {
   "cell_type": "code",
   "execution_count": 4,
   "metadata": {},
   "outputs": [],
   "source": [
    "s = soma(entradas, pesos) # Função Soma recebe ENTRADAS e PESOS, imprimindo em S"
   ]
  },
  {
   "cell_type": "code",
   "execution_count": 5,
   "metadata": {},
   "outputs": [],
   "source": [
    "def stepfunction(soma): #Função Step Function \n",
    "    if (soma >= 1):\n",
    "        return 1\n",
    "    return 0"
   ]
  },
  {
   "cell_type": "code",
   "execution_count": 6,
   "metadata": {},
   "outputs": [],
   "source": [
    "r = stepfunction(s)"
   ]
  }
 ],
 "metadata": {
  "kernelspec": {
   "display_name": "Python 3",
   "language": "python",
   "name": "python3"
  },
  "language_info": {
   "codemirror_mode": {
    "name": "ipython",
    "version": 3
   },
   "file_extension": ".py",
   "mimetype": "text/x-python",
   "name": "python",
   "nbconvert_exporter": "python",
   "pygments_lexer": "ipython3",
   "version": "3.12.3"
  }
 },
 "nbformat": 4,
 "nbformat_minor": 2
}
