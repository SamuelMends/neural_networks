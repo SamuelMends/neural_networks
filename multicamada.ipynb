{
 "cells": [
  {
   "cell_type": "code",
   "execution_count": 2,
   "metadata": {},
   "outputs": [],
   "source": [
    "import numpy as np"
   ]
  },
  {
   "cell_type": "code",
   "execution_count": 3,
   "metadata": {},
   "outputs": [],
   "source": [
    "def sigmoid(soma):\n",
    "    return 1 / (1 + np.exp(-soma))"
   ]
  },
  {
   "cell_type": "code",
   "execution_count": 4,
   "metadata": {},
   "outputs": [],
   "source": [
    "def sigmoidDerivada(sig):\n",
    "    return sig * (1 - sig)"
   ]
  },
  {
   "cell_type": "code",
   "execution_count": 5,
   "metadata": {},
   "outputs": [],
   "source": [
    "a = sigmoid(0.5)\n",
    "b = sigmoidDerivada(a)"
   ]
  },
  {
   "cell_type": "code",
   "execution_count": 6,
   "metadata": {},
   "outputs": [],
   "source": [
    "entradas = np.array([[0,0],[0,1],[1,0],[1,1]])\n",
    "saidas = np.array([[0],[1],[1],[0]])"
   ]
  },
  {
   "cell_type": "code",
   "execution_count": 7,
   "metadata": {},
   "outputs": [],
   "source": [
    "pesos0 = np.array([[-0.424, -0.740, -0.961], \n",
    "                   [0.358, -0.577, -0.469]])"
   ]
  },
  {
   "cell_type": "code",
   "execution_count": 8,
   "metadata": {},
   "outputs": [],
   "source": [
    "pesos1 = np.array([[-0.017],[-0.893],[0.148]])"
   ]
  },
  {
   "cell_type": "code",
   "execution_count": 25,
   "metadata": {},
   "outputs": [],
   "source": [
    "epocas = 100\n",
    "taxaAprendizagem = 0.3\n",
    "momento = 1"
   ]
  },
  {
   "cell_type": "code",
   "execution_count": 12,
   "metadata": {},
   "outputs": [],
   "source": [
    "for j in range(epocas):\n",
    "    camadaEntrada = entradas\n",
    "    somaSinapse0 = np.dot(camadaEntrada, pesos0) #Estamos fazendo o .dot product da camada de entrada multiplicando pelos pesos0.\n",
    "    camadaOculta = sigmoid(somaSinapse0)"
   ]
  },
  {
   "cell_type": "code",
   "execution_count": 14,
   "metadata": {},
   "outputs": [],
   "source": [
    "somaSinapse1 = np.dot(camadaOculta, pesos1)\n",
    "camadaSaida = sigmoid(somaSinapse1)"
   ]
  },
  {
   "cell_type": "code",
   "execution_count": 16,
   "metadata": {},
   "outputs": [],
   "source": [
    "erroCamadaSaida = saidas - camadaSaida\n",
    "mediaAbsoluta = np.mean(np.abs(erroCamadaSaida))"
   ]
  },
  {
   "cell_type": "code",
   "execution_count": 18,
   "metadata": {},
   "outputs": [],
   "source": [
    "derivadaSaida = sigmoidDerivada(camadaSaida)\n",
    "deltaSaida = erroCamadaSaida * derivadaSaida"
   ]
  },
  {
   "cell_type": "code",
   "execution_count": 22,
   "metadata": {},
   "outputs": [],
   "source": [
    "pesos1Transporta = pesos1.T\n",
    "deltaSaidaXPeso = deltaSaida.dot(pesos1Transporta)\n",
    "deltaCamadaOculta = deltaSaidaXPeso * sigmoidDerivada(camadaOculta)"
   ]
  },
  {
   "cell_type": "code",
   "execution_count": 26,
   "metadata": {},
   "outputs": [],
   "source": [
    "camadaOcultaTransposta = camadaOculta.T\n",
    "pesosNovo1 = camadaOcultaTransposta.dot(deltaSaida)\n",
    "pesos1 = (pesos1 * momento) + (pesosNovo1 * taxaAprendizagem)"
   ]
  },
  {
   "cell_type": "code",
   "execution_count": 27,
   "metadata": {},
   "outputs": [],
   "source": [
    "camadaEntradaTransposta = camadaEntrada.T"
   ]
  }
 ],
 "metadata": {
  "kernelspec": {
   "display_name": "Python 3",
   "language": "python",
   "name": "python3"
  },
  "language_info": {
   "codemirror_mode": {
    "name": "ipython",
    "version": 3
   },
   "file_extension": ".py",
   "mimetype": "text/x-python",
   "name": "python",
   "nbconvert_exporter": "python",
   "pygments_lexer": "ipython3",
   "version": "3.12.3"
  }
 },
 "nbformat": 4,
 "nbformat_minor": 2
}
