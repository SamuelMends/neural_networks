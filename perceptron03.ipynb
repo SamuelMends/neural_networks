{
 "cells": [
  {
   "cell_type": "code",
   "execution_count": 1,
   "metadata": {},
   "outputs": [],
   "source": [
    "# Implementação Perceptron de Camada III (Estilo BIG DATA)"
   ]
  },
  {
   "cell_type": "code",
   "execution_count": 2,
   "metadata": {},
   "outputs": [],
   "source": [
    "import numpy as np"
   ]
  },
  {
   "cell_type": "code",
   "execution_count": 3,
   "metadata": {},
   "outputs": [],
   "source": [
    "entradas = np.array([[0,0],[0,1],[1,0],[1,1]])\n",
    "saidas = np.array([[0,0,0,1]])\n",
    "pesos = np.array([[0.0, 0.0]])\n",
    "taxaaprendizagem = 0.1"
   ]
  },
  {
   "cell_type": "code",
   "execution_count": 4,
   "metadata": {},
   "outputs": [],
   "source": [
    "def stepfunction(soma):\n",
    "    if (soma >= 1):\n",
    "        return 1\n",
    "    return 0"
   ]
  },
  {
   "cell_type": "code",
   "execution_count": 5,
   "metadata": {},
   "outputs": [],
   "source": [
    "def calculasaida(registro):\n",
    "    s = registro.dot(pesos)\n",
    "    return stepfunction(s)"
   ]
  },
  {
   "cell_type": "code",
   "execution_count": 6,
   "metadata": {},
   "outputs": [],
   "source": [
    "def treinar():\n",
    "    errototal = 1\n",
    "    while (errototal != 0):\n",
    "        errototal = 0\n",
    "        for i in range (len(saidas)):\n",
    "            saidacalculada = calculasaida(np.asarray(entradas[i]))\n",
    "            erro = abs(saidas[i] - saidacalculada)\n",
    "            errototal += erro\n",
    "            for j in range (len(pesos)):\n",
    "                pesos [j] = pesos [j] + (taxaaprendizagem * entradas [i][j] * erro)\n",
    "                print('Peso atualizado: ' + str(pesos[j]))\n",
    "        print('Total de erros: '+ str(errototal))"
   ]
  },
  {
   "cell_type": "code",
   "execution_count": 7,
   "metadata": {},
   "outputs": [
    {
     "ename": "ValueError",
     "evalue": "shapes (2,) and (1,2) not aligned: 2 (dim 0) != 1 (dim 0)",
     "output_type": "error",
     "traceback": [
      "\u001b[1;31m---------------------------------------------------------------------------\u001b[0m",
      "\u001b[1;31mValueError\u001b[0m                                Traceback (most recent call last)",
      "Cell \u001b[1;32mIn[7], line 1\u001b[0m\n\u001b[1;32m----> 1\u001b[0m \u001b[43mtreinar\u001b[49m\u001b[43m(\u001b[49m\u001b[43m)\u001b[49m\n",
      "Cell \u001b[1;32mIn[6], line 6\u001b[0m, in \u001b[0;36mtreinar\u001b[1;34m()\u001b[0m\n\u001b[0;32m      4\u001b[0m errototal \u001b[38;5;241m=\u001b[39m \u001b[38;5;241m0\u001b[39m\n\u001b[0;32m      5\u001b[0m \u001b[38;5;28;01mfor\u001b[39;00m i \u001b[38;5;129;01min\u001b[39;00m \u001b[38;5;28mrange\u001b[39m (\u001b[38;5;28mlen\u001b[39m(saidas)):\n\u001b[1;32m----> 6\u001b[0m     saidacalculada \u001b[38;5;241m=\u001b[39m \u001b[43mcalculasaida\u001b[49m\u001b[43m(\u001b[49m\u001b[43mnp\u001b[49m\u001b[38;5;241;43m.\u001b[39;49m\u001b[43masarray\u001b[49m\u001b[43m(\u001b[49m\u001b[43mentradas\u001b[49m\u001b[43m[\u001b[49m\u001b[43mi\u001b[49m\u001b[43m]\u001b[49m\u001b[43m)\u001b[49m\u001b[43m)\u001b[49m\n\u001b[0;32m      7\u001b[0m     erro \u001b[38;5;241m=\u001b[39m \u001b[38;5;28mabs\u001b[39m(saidas[i] \u001b[38;5;241m-\u001b[39m saidacalculada)\n\u001b[0;32m      8\u001b[0m     errototal \u001b[38;5;241m+\u001b[39m\u001b[38;5;241m=\u001b[39m erro\n",
      "Cell \u001b[1;32mIn[5], line 2\u001b[0m, in \u001b[0;36mcalculasaida\u001b[1;34m(registro)\u001b[0m\n\u001b[0;32m      1\u001b[0m \u001b[38;5;28;01mdef\u001b[39;00m \u001b[38;5;21mcalculasaida\u001b[39m(registro):\n\u001b[1;32m----> 2\u001b[0m     s \u001b[38;5;241m=\u001b[39m \u001b[43mregistro\u001b[49m\u001b[38;5;241;43m.\u001b[39;49m\u001b[43mdot\u001b[49m\u001b[43m(\u001b[49m\u001b[43mpesos\u001b[49m\u001b[43m)\u001b[49m\n\u001b[0;32m      3\u001b[0m     \u001b[38;5;28;01mreturn\u001b[39;00m stepfunction(s)\n",
      "\u001b[1;31mValueError\u001b[0m: shapes (2,) and (1,2) not aligned: 2 (dim 0) != 1 (dim 0)"
     ]
    }
   ],
   "source": [
    "treinar()"
   ]
  }
 ],
 "metadata": {
  "kernelspec": {
   "display_name": "Python 3",
   "language": "python",
   "name": "python3"
  },
  "language_info": {
   "codemirror_mode": {
    "name": "ipython",
    "version": 3
   },
   "file_extension": ".py",
   "mimetype": "text/x-python",
   "name": "python",
   "nbconvert_exporter": "python",
   "pygments_lexer": "ipython3",
   "version": "3.12.3"
  }
 },
 "nbformat": 4,
 "nbformat_minor": 2
}
