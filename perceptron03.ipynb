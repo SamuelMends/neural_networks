{
 "cells": [
  {
   "cell_type": "code",
   "execution_count": 28,
   "metadata": {},
   "outputs": [],
   "source": [
    "import numpy as np"
   ]
  },
  {
   "cell_type": "code",
   "execution_count": 29,
   "metadata": {},
   "outputs": [],
   "source": [
    "entradas = np.array([[0,0],[0,1],[1,0],[1,1]])\n",
    "saidas = np.array([0,0,0,1])"
   ]
  },
  {
   "cell_type": "code",
   "execution_count": 30,
   "metadata": {},
   "outputs": [],
   "source": [
    "pesos = np.array([0.0, 0.0])\n",
    "taxaAprendizagem = 0.1"
   ]
  },
  {
   "cell_type": "code",
   "execution_count": 31,
   "metadata": {},
   "outputs": [],
   "source": [
    "def stepfunction(soma):\n",
    "    if (soma >=1):\n",
    "        return 1\n",
    "    return 0"
   ]
  },
  {
   "cell_type": "code",
   "execution_count": 32,
   "metadata": {},
   "outputs": [],
   "source": [
    "def calculasaida(registro):\n",
    "    s = registro.dot(pesos)\n",
    "    return stepfunction(s)"
   ]
  },
  {
   "cell_type": "code",
   "execution_count": 33,
   "metadata": {},
   "outputs": [],
   "source": [
    "def treinar():\n",
    "    erroTotal = 1\n",
    "    while (erroTotal != 0):\n",
    "        erroTotal = 0 \n",
    "        for i in range(len(saidas)):\n",
    "            saidaCalculada = calculasaida(np.asarray(entradas[i]))\n",
    "            erro = abs(saidas[i] - saidaCalculada)\n",
    "            erroTotal += erro\n",
    "            for j in range(len(pesos)):\n",
    "                pesos[j] = pesos[j] + (taxaAprendizagem * entradas[i][j]*erro)\n",
    "                print('Peso atualizado: '+ str(round(pesos[j], 2)))\n",
    "        print('Total de erros: '+str(erroTotal))\n"
   ]
  },
  {
   "cell_type": "code",
   "execution_count": 34,
   "metadata": {},
   "outputs": [
    {
     "name": "stdout",
     "output_type": "stream",
     "text": [
      "Peso atualizado: 0.0\n",
      "Peso atualizado: 0.0\n",
      "Peso atualizado: 0.0\n",
      "Peso atualizado: 0.0\n",
      "Peso atualizado: 0.0\n",
      "Peso atualizado: 0.0\n",
      "Peso atualizado: 0.1\n",
      "Peso atualizado: 0.1\n",
      "Total de erros: 1\n",
      "Peso atualizado: 0.1\n",
      "Peso atualizado: 0.1\n",
      "Peso atualizado: 0.1\n",
      "Peso atualizado: 0.1\n",
      "Peso atualizado: 0.1\n",
      "Peso atualizado: 0.1\n",
      "Peso atualizado: 0.2\n",
      "Peso atualizado: 0.2\n",
      "Total de erros: 1\n",
      "Peso atualizado: 0.2\n",
      "Peso atualizado: 0.2\n",
      "Peso atualizado: 0.2\n",
      "Peso atualizado: 0.2\n",
      "Peso atualizado: 0.2\n",
      "Peso atualizado: 0.2\n",
      "Peso atualizado: 0.3\n",
      "Peso atualizado: 0.3\n",
      "Total de erros: 1\n",
      "Peso atualizado: 0.3\n",
      "Peso atualizado: 0.3\n",
      "Peso atualizado: 0.3\n",
      "Peso atualizado: 0.3\n",
      "Peso atualizado: 0.3\n",
      "Peso atualizado: 0.3\n",
      "Peso atualizado: 0.4\n",
      "Peso atualizado: 0.4\n",
      "Total de erros: 1\n",
      "Peso atualizado: 0.4\n",
      "Peso atualizado: 0.4\n",
      "Peso atualizado: 0.4\n",
      "Peso atualizado: 0.4\n",
      "Peso atualizado: 0.4\n",
      "Peso atualizado: 0.4\n",
      "Peso atualizado: 0.5\n",
      "Peso atualizado: 0.5\n",
      "Total de erros: 1\n",
      "Peso atualizado: 0.5\n",
      "Peso atualizado: 0.5\n",
      "Peso atualizado: 0.5\n",
      "Peso atualizado: 0.5\n",
      "Peso atualizado: 0.5\n",
      "Peso atualizado: 0.5\n",
      "Peso atualizado: 0.5\n",
      "Peso atualizado: 0.5\n",
      "Total de erros: 0\n",
      "Rede neural treinada\n",
      "0\n",
      "0\n",
      "0\n",
      "1\n"
     ]
    }
   ],
   "source": [
    "treinar()\n",
    "print('Rede neural treinada')\n",
    "print(calculasaida(entradas[0]))\n",
    "print(calculasaida(entradas[1]))\n",
    "print(calculasaida(entradas[2]))\n",
    "print(calculasaida(entradas[3]))"
   ]
  }
 ],
 "metadata": {
  "kernelspec": {
   "display_name": "Python 3",
   "language": "python",
   "name": "python3"
  },
  "language_info": {
   "codemirror_mode": {
    "name": "ipython",
    "version": 3
   },
   "file_extension": ".py",
   "mimetype": "text/x-python",
   "name": "python",
   "nbconvert_exporter": "python",
   "pygments_lexer": "ipython3",
   "version": "3.12.3"
  }
 },
 "nbformat": 4,
 "nbformat_minor": 2
}
